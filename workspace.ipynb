{
 "cells": [
  {
   "cell_type": "code",
   "execution_count": 6,
   "metadata": {},
   "outputs": [
    {
     "name": "stdout",
     "output_type": "stream",
     "text": [
      "torch.Size([1800, 480, 480])\n"
     ]
    }
   ],
   "source": [
    "import skimage.io as io\n",
    "import numpy as np\n",
    "import torch\n",
    "\n",
    "# Load the image\n",
    "# tif = io.imread(\"/media/HDD2/Josh/Cytosolic2NLS/Data/NAOMI_Cytosolic2NLS_Dataset/train/A/my_data_9_results.tif\")\n",
    "\n",
    "tif = torch.from_numpy(io.imread(\"/media/HDD2/Josh/Cytosolic2NLS/Data/NAOMI_Cytosolic2NLS_Dataset/train/A/my_data_9_results.tif\")).float()\n",
    "\n",
    "print(tif.shape)"
   ]
  },
  {
   "cell_type": "code",
   "execution_count": 5,
   "metadata": {},
   "outputs": [
    {
     "name": "stdout",
     "output_type": "stream",
     "text": [
      "torch.Size([3, 5799, 4751])\n"
     ]
    }
   ],
   "source": [
    "# Load the image\n",
    "\n",
    "png = torch.from_numpy(io.imread(\"/media/HDD2/Josh/Cytosolic2NLS/Data/230427_Live_to_HnE/test/A/P055_T_MS0003_TI_20X_P055_04-03_RT_posterior.png\")).float().permute(2, 0, 1)\n",
    "\n",
    "print(png.shape)"
   ]
  },
  {
   "cell_type": "code",
   "execution_count": null,
   "metadata": {},
   "outputs": [],
   "source": [
    "python3.10 train.py --batch_size 1 --seed 101 --exp_name \"clean_test\" --output_dir \"/media/HDD4/josh/c2n/results\" --dataset_dir \"/media/HDD2/Josh/Cytosolic2NLS/Data/real_dense_crop_full\" --datatype \"tif\" --crop_size 256 --augmentation 1 --normalize \"dataset\" --input_channels 1 --output_channels 1 --common_channels 1 --lambda_img_adv_1 10 --lambda_img_adv_2 1 --lambda_com_rec_1 0.1 --lambda_com_rec_2 10 --lambda_img_rec_1 1 --lambda_img_rec_2 100 --lambda_img_cyc_1 0.1 --lambda_img_cyc_2 10"
   ]
  }
 ],
 "metadata": {
  "kernelspec": {
   "display_name": "c2n_tensorboard",
   "language": "python",
   "name": "python3"
  },
  "language_info": {
   "codemirror_mode": {
    "name": "ipython",
    "version": 3
   },
   "file_extension": ".py",
   "mimetype": "text/x-python",
   "name": "python",
   "nbconvert_exporter": "python",
   "pygments_lexer": "ipython3",
   "version": "3.10.11"
  }
 },
 "nbformat": 4,
 "nbformat_minor": 2
}
